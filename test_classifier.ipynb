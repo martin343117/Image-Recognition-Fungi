{
 "cells": [
  {
   "cell_type": "code",
   "execution_count": 16,
   "id": "02790814-71ff-49ed-a8df-7aa1cdcb044e",
   "metadata": {},
   "outputs": [],
   "source": [
    "import numpy as np\n",
    "\n",
    "#import torch which has many of the functions to build deep learning models and to train them\n",
    "import torch\n",
    "import torch.nn as nn\n",
    "import torch.optim as optim\n",
    "\n",
    "#import torchvision, which was lots of functions for loading and working with image data\n",
    "import torchvision\n",
    "import torchvision.transforms as transforms\n",
    "\n",
    "#this is a nice progress bar representation that will be good to measure progress during training\n",
    "import tqdm\n",
    "\n",
    "class LinearClassifier(nn.Module):\n",
    "    def __init__(self):\n",
    "        super().__init__()\n",
    "        self.fc1 = nn.Linear(384, 128)\n",
    "        self.fc2 = nn.Linear(128,10)\n",
    "\n",
    "        self.relu = nn.ReLU()\n",
    "        \n",
    "    def forward(self, x):\n",
    "        x = self.relu(self.fc1(x))\n",
    "        y = self.relu(self.fc2(x))\n",
    "        return y\n",
    "\n",
    "class MyClassifier():\n",
    "    \n",
    "    ''' Do not change the class name. Do not change any of the existing function names. You may add extra functions as you see fit.'''\n",
    "    \n",
    "    def __init__(self):\n",
    "        self.class_labels = ['edible_1', 'edible_2', 'edible_3', 'edible_4', 'edible_5',\n",
    "                            'poisonous_1', 'poisonous_2', 'poisonous_3', 'poisonous_4', 'poisonous_5']\n",
    "        \n",
    "        \n",
    "    def setup(self):\n",
    "        ''' This function will initialise your model. \n",
    "            You will need to load the model architecture and load any saved weights file your model relies on.\n",
    "        '''\n",
    "        dino = torch.hub.load('facebookresearch/dinov2', 'dinov2_vits14')\n",
    "        self.dino_model=dino\n",
    "        self.dino_model.eval()\n",
    "        \n",
    "        self.model=LinearClassifier()\n",
    "        self.model.load_state_dict(torch.load('first_model.pth', map_location='cpu'))\n",
    "        self.model.eval()\n",
    "\n",
    "        imagenet_means = (0.485, 0.456, 0.406)\n",
    "        imagenet_stds = (0.229, 0.224, 0.225)\n",
    "\n",
    "        self.transform = transforms.Compose([\n",
    "            transforms.ToTensor(),\n",
    "            transforms.Resize((224,224)),\n",
    "            transforms.Normalize(imagenet_means, imagenet_stds)])\n",
    "        \n",
    "    def test_image(self, image):\n",
    "        ''' This function will be given a PIL image, and should return the predicted class label for that image. \n",
    "            Currently the function is returning a random label.  \n",
    "        '''\n",
    "        transformed_im=self.transform(image).unsqueeze(0)\n",
    "        dino_out=self.dino_model(transformed_im)\n",
    "        output=self.model(dino_out)\n",
    "\n",
    "        predicted_idx=torch.argmax(output)\n",
    "              \n",
    "        predicted_cls = self.class_labels[predicted_idx]\n",
    "        return predicted_cls"
   ]
  },
  {
   "cell_type": "code",
   "execution_count": 17,
   "id": "de8872ac-d41b-4aca-9c7d-e76260390307",
   "metadata": {},
   "outputs": [
    {
     "name": "stderr",
     "output_type": "stream",
     "text": [
      "Using cache found in /tmp/.cache/torch/hub/facebookresearch_dinov2_main\n",
      "100%|██████████| 1065/1065 [01:08<00:00, 15.65it/s]"
     ]
    },
    {
     "name": "stdout",
     "output_type": "stream",
     "text": [
      "Validation accuracy is 96.15\n"
     ]
    },
    {
     "name": "stderr",
     "output_type": "stream",
     "text": [
      "\n"
     ]
    }
   ],
   "source": [
    "classifier = MyClassifier()\n",
    "classifier.setup()\n",
    "\n",
    "val_dataset_ims = torchvision.datasets.ImageFolder('trainval')\n",
    "\n",
    "class_list = ['edible_1', 'edible_2', 'edible_3', 'edible_4', 'edible_5',\n",
    "    'poisonous_1', 'poisonous_2', 'poisonous_3', 'poisonous_4', 'poisonous_5']\n",
    "\n",
    "\n",
    "correct = 0\n",
    "total = 0    \n",
    "for i, data in  tqdm.tqdm(enumerate(val_dataset_ims, 0), total = len(val_dataset_ims)):\n",
    "    inputs, labels = data\n",
    "    txt_label = class_list[labels]\n",
    "\n",
    "    prediction = classifier.test_image(inputs)\n",
    "\n",
    "    if prediction == txt_label:\n",
    "        correct += 1\n",
    "    total += 1\n",
    "    \n",
    "val_accuracy = correct/total\n",
    "print(f'Validation accuracy is {100.*correct/total :.2f}')"
   ]
  },
  {
   "cell_type": "code",
   "execution_count": null,
   "id": "ac2a44ee-61c4-4825-a244-bff175e986a6",
   "metadata": {},
   "outputs": [],
   "source": []
  }
 ],
 "metadata": {
  "kernelspec": {
   "display_name": "Python 3 (ipykernel)",
   "language": "python",
   "name": "python3"
  },
  "language_info": {
   "codemirror_mode": {
    "name": "ipython",
    "version": 3
   },
   "file_extension": ".py",
   "mimetype": "text/x-python",
   "name": "python",
   "nbconvert_exporter": "python",
   "pygments_lexer": "ipython3",
   "version": "3.12.7"
  }
 },
 "nbformat": 4,
 "nbformat_minor": 5
}
