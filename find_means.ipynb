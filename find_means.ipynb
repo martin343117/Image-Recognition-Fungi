{
 "cells": [
  {
   "cell_type": "code",
   "execution_count": 4,
   "id": "4bf4cfff-8e6f-4046-9508-d152ce0eb8e7",
   "metadata": {},
   "outputs": [
    {
     "name": "stdout",
     "output_type": "stream",
     "text": [
      "0.32261666301009545 0.24770244143090148\n"
     ]
    }
   ],
   "source": [
    "import numpy as np\n",
    "import matplotlib.pyplot as plt\n",
    "from sklearn.model_selection import train_test_split\n",
    "\n",
    "#import torch which has many of the functions to build deep learning models and to train them\n",
    "import torch\n",
    "import torch.nn as nn\n",
    "import torch.nn.functional as F\n",
    "import torch.optim as optim\n",
    "\n",
    "#import torchvision, which was lots of functions for loading and working with image data\n",
    "import torchvision\n",
    "import torchvision.transforms as transforms\n",
    "\n",
    "#this is a nice progress bar representation that will be good to measure progress during training\n",
    "import tqdm\n",
    "\n",
    "transform = transforms.Compose(\n",
    "    [transforms.ToTensor(),\n",
    "     #224 x 224\n",
    "    transforms.Resize((224,224)),\n",
    "    ])\n",
    "\n",
    "full_data = torchvision.datasets.ImageFolder('trainval', transform = transform)\n",
    "\n",
    "pixel_vals=[]\n",
    "for data in full_data:\n",
    "    im, lbl =data\n",
    "    pixel_vals+= im[2].flatten().tolist()\n",
    "\n",
    "print(np.mean(pixel_vals), np.std(pixel_vals))"
   ]
  }
 ],
 "metadata": {
  "kernelspec": {
   "display_name": "Python 3 (ipykernel)",
   "language": "python",
   "name": "python3"
  },
  "language_info": {
   "codemirror_mode": {
    "name": "ipython",
    "version": 3
   },
   "file_extension": ".py",
   "mimetype": "text/x-python",
   "name": "python",
   "nbconvert_exporter": "python",
   "pygments_lexer": "ipython3",
   "version": "3.11.9"
  }
 },
 "nbformat": 4,
 "nbformat_minor": 5
}
